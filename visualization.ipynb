{
 "cells": [
  {
   "cell_type": "code",
   "execution_count": 4,
   "metadata": {},
   "outputs": [],
   "source": [
    "import pandas as pd\n",
    "import numpy as np\n",
    "from pyvis.network import Network\n",
    "\n",
    "def color_str(r, g, b):\n",
    "    # print(f'{int(r):02x}{int(g):02x}{int(b):02x}, {r}, {g}, {b}')\n",
    "    return f'{int(r):02x}{int(g):02x}{int(b):02x}'"
   ]
  },
  {
   "cell_type": "code",
   "execution_count": 5,
   "metadata": {},
   "outputs": [],
   "source": [
    "def plot(time_step, iteration=0, num_graph=0):\n",
    "    iteration = 0\n",
    "    num_graph = 0\n",
    "    edge_table = pd.read_csv(f\"graph-logs/edges-{iteration}-{time_step}.csv\")\n",
    "    edge_table = edge_table[edge_table.graph == num_graph]\n",
    "    node_table = pd.read_csv(f\"graph-logs/nodes-{iteration}-{time_step}.csv\")\n",
    "    node_table = node_table[node_table.graph == num_graph]\n",
    "    pointer_table = pd.read_csv(f\"graph-logs/pointers-{iteration}-{time_step}.csv\")\n",
    "    pointer_table = pointer_table[pointer_table.graph == num_graph]\n",
    "\n",
    "    net = Network(directed=True, notebook=True, cdn_resources='remote')\n",
    "    num_nodes = node_table.shape[0]\n",
    "    net.add_nodes(np.array(node_table.node_index, dtype=int),\n",
    "                  title=[a.replace(\", \", \"\\n\") for a in node_table.label],\n",
    "                  label=[f\"{a}\" for a in node_table.node_index],\n",
    "                  value=[1] * num_nodes,\n",
    "                  color=[color_str(row.r, row.g, row.b) for _, row in node_table.iterrows()])\n",
    "    #net.add_edges(np.array(edge_table[[\"source\", \"target\"]], dtype=int))\n",
    "    edge_table.apply(lambda e: net.add_edge(int(e.source), int(e.target), color=\"#aaa\"), axis=1)\n",
    "    pointer_table.apply(lambda e: net.add_edge(int(e.source), int(e.target), color=\"#ff0000\", title=f\"{e.prediction}\"), axis=1)\n",
    "    #net.show_buttons(filter_=['physics'])\n",
    "    net.repulsion()\n",
    "    #net.set_edge_smooth('horizontal')\n",
    "    return net.show(f\"dfs-{num_graph}-{iteration}-{time_step}.html\")"
   ]
  },
  {
   "cell_type": "code",
   "execution_count": 7,
   "metadata": {},
   "outputs": [
    {
     "data": {
      "text/html": [
       "\n",
       "        <iframe\n",
       "            width=\"100%\"\n",
       "            height=\"600px\"\n",
       "            src=\"dfs-0-0-1.html\"\n",
       "            frameborder=\"0\"\n",
       "            allowfullscreen\n",
       "            \n",
       "        ></iframe>\n",
       "        "
      ],
      "text/plain": [
       "<IPython.lib.display.IFrame at 0x16c1cadd048>"
      ]
     },
     "execution_count": 7,
     "metadata": {},
     "output_type": "execute_result"
    }
   ],
   "source": [
    "plot(1)"
   ]
  },
  {
   "cell_type": "code",
   "execution_count": 9,
   "metadata": {},
   "outputs": [
    {
     "name": "stdout",
     "output_type": "stream",
     "text": [
      "878787, 135.42256218194962, 135.42256218194962, 135.42256218194962\n",
      "7e7e7e, 126.91203939914703, 126.91203939914703, 126.91203939914703\n",
      "7d7d7d, 125.52947396039964, 125.52947396039964, 125.52947396039964\n",
      "7d7d7d, 125.526096701622, 125.526096701622, 125.526096701622\n",
      "7b7b7b, 123.68855440616608, 123.68855440616608, 123.68855440616608\n",
      "7a7a7a, 122.8522347509861, 122.8522347509861, 122.8522347509861\n",
      "7a7a7a, 122.26119375228882, 122.26119375228882, 122.26119375228882\n",
      "7a7a7a, 122.01411435008048, 122.01411435008048, 122.01411435008048\n"
     ]
    },
    {
     "data": {
      "text/html": [
       "\n",
       "        <iframe\n",
       "            width=\"100%\"\n",
       "            height=\"600px\"\n",
       "            src=\"dfs-0-0-2.html\"\n",
       "            frameborder=\"0\"\n",
       "            allowfullscreen\n",
       "            \n",
       "        ></iframe>\n",
       "        "
      ],
      "text/plain": [
       "<IPython.lib.display.IFrame at 0x1d2db1f08c8>"
      ]
     },
     "execution_count": 9,
     "metadata": {},
     "output_type": "execute_result"
    }
   ],
   "source": [
    "plot(2)"
   ]
  },
  {
   "cell_type": "code",
   "execution_count": 10,
   "metadata": {},
   "outputs": [
    {
     "name": "stdout",
     "output_type": "stream",
     "text": [
      "828282, 130.75381416082382, 130.75381416082382, 130.75381416082382\n",
      "7d7d7d, 125.4533956348896, 125.4533956348896, 125.4533956348896\n",
      "7b7b7b, 123.17039132118224, 123.17039132118224, 123.17039132118224\n",
      "7b7b7b, 123.22784051299097, 123.22784051299097, 123.22784051299097\n",
      "787878, 120.49110755324364, 120.49110755324364, 120.49110755324364\n",
      "777777, 119.17450737953186, 119.17450737953186, 119.17450737953186\n",
      "767676, 118.20133104920389, 118.20133104920389, 118.20133104920389\n",
      "767676, 118.29310935735704, 118.29310935735704, 118.29310935735704\n"
     ]
    },
    {
     "data": {
      "text/html": [
       "\n",
       "        <iframe\n",
       "            width=\"100%\"\n",
       "            height=\"600px\"\n",
       "            src=\"dfs-0-0-3.html\"\n",
       "            frameborder=\"0\"\n",
       "            allowfullscreen\n",
       "            \n",
       "        ></iframe>\n",
       "        "
      ],
      "text/plain": [
       "<IPython.lib.display.IFrame at 0x1d2db2b2f08>"
      ]
     },
     "execution_count": 10,
     "metadata": {},
     "output_type": "execute_result"
    }
   ],
   "source": [
    "plot(3)"
   ]
  },
  {
   "cell_type": "code",
   "execution_count": 11,
   "metadata": {},
   "outputs": [
    {
     "name": "stdout",
     "output_type": "stream",
     "text": [
      "828282, 130.40892657637596, 130.40892657637596, 130.40892657637596\n",
      "7c7c7c, 124.6920710504055, 124.6920710504055, 124.6920710504055\n",
      "797979, 121.69618168473244, 121.69618168473244, 121.69618168473244\n",
      "797979, 121.92058843374252, 121.92058843374252, 121.92058843374252\n",
      "767676, 118.34365797042848, 118.34365797042848, 118.34365797042848\n",
      "747474, 116.38774299621582, 116.38774299621582, 116.38774299621582\n",
      "737373, 115.1751747727394, 115.1751747727394, 115.1751747727394\n",
      "737373, 115.74793270230292, 115.74793270230292, 115.74793270230292\n"
     ]
    },
    {
     "data": {
      "text/html": [
       "\n",
       "        <iframe\n",
       "            width=\"100%\"\n",
       "            height=\"600px\"\n",
       "            src=\"dfs-0-0-4.html\"\n",
       "            frameborder=\"0\"\n",
       "            allowfullscreen\n",
       "            \n",
       "        ></iframe>\n",
       "        "
      ],
      "text/plain": [
       "<IPython.lib.display.IFrame at 0x1d2db2b9b88>"
      ]
     },
     "execution_count": 11,
     "metadata": {},
     "output_type": "execute_result"
    }
   ],
   "source": [
    "plot(4)"
   ]
  },
  {
   "cell_type": "code",
   "execution_count": 12,
   "metadata": {},
   "outputs": [
    {
     "name": "stdout",
     "output_type": "stream",
     "text": [
      "828282, 130.2785104215145, 130.2785104215145, 130.2785104215145\n",
      "7c7c7c, 124.5096985399723, 124.5096985399723, 124.5096985399723\n",
      "787878, 120.72311449050903, 120.72311449050903, 120.72311449050903\n",
      "797979, 121.0091432929039, 121.0091432929039, 121.0091432929039\n",
      "747474, 116.59276893734932, 116.59276893734932, 116.59276893734932\n",
      "717171, 113.83202722668648, 113.83202722668648, 113.83202722668648\n",
      "707070, 112.41025188565254, 112.41025188565254, 112.41025188565254\n",
      "717171, 113.53150969743729, 113.53150969743729, 113.53150969743729\n"
     ]
    },
    {
     "data": {
      "text/html": [
       "\n",
       "        <iframe\n",
       "            width=\"100%\"\n",
       "            height=\"600px\"\n",
       "            src=\"dfs-0-0-5.html\"\n",
       "            frameborder=\"0\"\n",
       "            allowfullscreen\n",
       "            \n",
       "        ></iframe>\n",
       "        "
      ],
      "text/plain": [
       "<IPython.lib.display.IFrame at 0x1d2db1ff3c8>"
      ]
     },
     "execution_count": 12,
     "metadata": {},
     "output_type": "execute_result"
    }
   ],
   "source": [
    "plot(5)"
   ]
  },
  {
   "cell_type": "code",
   "execution_count": 13,
   "metadata": {},
   "outputs": [
    {
     "name": "stdout",
     "output_type": "stream",
     "text": [
      "828282, 130.42829766869545, 130.42829766869545, 130.42829766869545\n",
      "7c7c7c, 124.42458492517471, 124.42458492517471, 124.42458492517471\n",
      "777777, 119.85633084177972, 119.85633084177972, 119.85633084177972\n",
      "787878, 120.15481966733932, 120.15481966733932, 120.15481966733932\n",
      "737373, 115.04260250926018, 115.04260250926018, 115.04260250926018\n",
      "6f6f6f, 111.35582786798476, 111.35582786798476, 111.35582786798476\n",
      "6d6d6d, 109.68714581429958, 109.68714581429958, 109.68714581429958\n",
      "6f6f6f, 111.53977584838869, 111.53977584838869, 111.53977584838869\n"
     ]
    },
    {
     "data": {
      "text/html": [
       "\n",
       "        <iframe\n",
       "            width=\"100%\"\n",
       "            height=\"600px\"\n",
       "            src=\"dfs-0-0-6.html\"\n",
       "            frameborder=\"0\"\n",
       "            allowfullscreen\n",
       "            \n",
       "        ></iframe>\n",
       "        "
      ],
      "text/plain": [
       "<IPython.lib.display.IFrame at 0x1d2db2bba08>"
      ]
     },
     "execution_count": 13,
     "metadata": {},
     "output_type": "execute_result"
    }
   ],
   "source": [
    "plot(6)"
   ]
  },
  {
   "cell_type": "code",
   "execution_count": 130,
   "metadata": {},
   "outputs": [
    {
     "data": {
      "text/html": [
       "\n",
       "        <iframe\n",
       "            width=\"100%\"\n",
       "            height=\"600px\"\n",
       "            src=\"ex.html\"\n",
       "            frameborder=\"0\"\n",
       "            allowfullscreen\n",
       "            \n",
       "        ></iframe>\n",
       "        "
      ],
      "text/plain": [
       "<IPython.lib.display.IFrame at 0x198d3bd1e08>"
      ]
     },
     "execution_count": 130,
     "metadata": {},
     "output_type": "execute_result"
    }
   ],
   "source": [
    "from pyvis.network import Network\n",
    "\n",
    "net = Network(directed=True, notebook=True, cdn_resources='remote')\n",
    "net.add_nodes(range(3), value=[10, 100, 400],\n",
    "                         title=['I am\\nnode 1', 'node 2 here', 'and im node 3'],\n",
    "                         x=[21.4, 54.2, 11.2],\n",
    "                         y=[100.2, 23.54, 32.1],\n",
    "                         label=['NODE 1', 'NODE 2', 'NODE 3'],\n",
    "                         color=['#000', '#162347', '#dd4b39'])\n",
    "net.show_buttons(filter_=['physics'])\n",
    "net.show(\"ex.html\")"
   ]
  },
  {
   "cell_type": "code",
   "execution_count": null,
   "metadata": {},
   "outputs": [],
   "source": []
  },
  {
   "cell_type": "code",
   "execution_count": 86,
   "metadata": {},
   "outputs": [
    {
     "data": {
      "text/html": [
       "\n",
       "        <iframe\n",
       "            width=\"100%\"\n",
       "            height=\"600px\"\n",
       "            src=\"ex.html\"\n",
       "            frameborder=\"0\"\n",
       "            allowfullscreen\n",
       "            \n",
       "        ></iframe>\n",
       "        "
      ],
      "text/plain": [
       "<IPython.lib.display.IFrame at 0x198d3bc7088>"
      ]
     },
     "execution_count": 86,
     "metadata": {},
     "output_type": "execute_result"
    }
   ],
   "source": []
  },
  {
   "cell_type": "code",
   "execution_count": 18,
   "metadata": {},
   "outputs": [
    {
     "name": "stdout",
     "output_type": "stream",
     "text": [
      "0.0 0.0\n",
      "0.0 1.0\n",
      "0.0 2.0\n",
      "0.0 3.0\n",
      "0.0 4.0\n",
      "0.0 6.0\n",
      "0.0 7.0\n",
      "0.0 8.0\n",
      "0.0 9.0\n",
      "0.0 10.0\n",
      "0.0 11.0\n",
      "0.0 12.0\n",
      "0.0 13.0\n",
      "0.0 14.0\n",
      "0.0 15.0\n",
      "1.0 0.0\n",
      "1.0 1.0\n",
      "1.0 2.0\n",
      "1.0 3.0\n",
      "1.0 4.0\n",
      "1.0 5.0\n",
      "1.0 6.0\n",
      "1.0 7.0\n",
      "1.0 8.0\n",
      "1.0 9.0\n",
      "1.0 10.0\n",
      "1.0 11.0\n",
      "1.0 12.0\n",
      "1.0 13.0\n",
      "1.0 14.0\n",
      "1.0 15.0\n",
      "2.0 0.0\n",
      "2.0 1.0\n",
      "2.0 2.0\n",
      "2.0 3.0\n",
      "2.0 5.0\n",
      "2.0 7.0\n",
      "2.0 8.0\n",
      "2.0 9.0\n",
      "2.0 10.0\n",
      "2.0 11.0\n",
      "2.0 12.0\n",
      "2.0 13.0\n",
      "2.0 14.0\n",
      "2.0 15.0\n",
      "3.0 0.0\n",
      "3.0 1.0\n",
      "3.0 2.0\n",
      "3.0 3.0\n",
      "3.0 4.0\n",
      "3.0 5.0\n",
      "3.0 6.0\n",
      "3.0 7.0\n",
      "3.0 8.0\n",
      "3.0 9.0\n",
      "3.0 10.0\n",
      "3.0 11.0\n",
      "3.0 12.0\n",
      "3.0 13.0\n",
      "3.0 14.0\n",
      "3.0 15.0\n",
      "4.0 0.0\n",
      "4.0 1.0\n",
      "4.0 3.0\n",
      "4.0 4.0\n",
      "4.0 5.0\n",
      "4.0 6.0\n",
      "4.0 7.0\n",
      "4.0 8.0\n",
      "4.0 9.0\n",
      "4.0 11.0\n",
      "4.0 12.0\n",
      "4.0 13.0\n",
      "4.0 14.0\n",
      "4.0 15.0\n",
      "5.0 1.0\n",
      "5.0 2.0\n",
      "5.0 3.0\n",
      "5.0 4.0\n",
      "5.0 5.0\n",
      "5.0 6.0\n",
      "5.0 7.0\n",
      "5.0 8.0\n",
      "5.0 9.0\n",
      "5.0 11.0\n",
      "5.0 12.0\n",
      "5.0 14.0\n",
      "5.0 15.0\n",
      "6.0 0.0\n",
      "6.0 1.0\n",
      "6.0 3.0\n",
      "6.0 4.0\n",
      "6.0 5.0\n",
      "6.0 6.0\n",
      "6.0 7.0\n",
      "6.0 10.0\n",
      "6.0 11.0\n",
      "6.0 12.0\n",
      "6.0 13.0\n",
      "6.0 14.0\n",
      "6.0 15.0\n",
      "7.0 0.0\n",
      "7.0 1.0\n",
      "7.0 2.0\n",
      "7.0 3.0\n",
      "7.0 4.0\n",
      "7.0 5.0\n",
      "7.0 6.0\n",
      "7.0 7.0\n",
      "7.0 8.0\n",
      "7.0 10.0\n",
      "7.0 11.0\n",
      "7.0 12.0\n",
      "7.0 13.0\n",
      "7.0 14.0\n",
      "7.0 15.0\n",
      "8.0 0.0\n",
      "8.0 1.0\n",
      "8.0 2.0\n",
      "8.0 3.0\n",
      "8.0 4.0\n",
      "8.0 5.0\n",
      "8.0 7.0\n",
      "8.0 8.0\n",
      "8.0 9.0\n",
      "8.0 10.0\n",
      "8.0 11.0\n",
      "8.0 13.0\n",
      "8.0 14.0\n",
      "9.0 0.0\n",
      "9.0 1.0\n",
      "9.0 2.0\n",
      "9.0 3.0\n",
      "9.0 4.0\n",
      "9.0 5.0\n",
      "9.0 8.0\n",
      "9.0 9.0\n",
      "9.0 10.0\n",
      "9.0 11.0\n",
      "9.0 12.0\n",
      "9.0 13.0\n",
      "9.0 15.0\n",
      "10.0 0.0\n",
      "10.0 1.0\n",
      "10.0 2.0\n",
      "10.0 3.0\n",
      "10.0 6.0\n",
      "10.0 7.0\n",
      "10.0 8.0\n",
      "10.0 9.0\n",
      "10.0 10.0\n",
      "10.0 11.0\n",
      "10.0 14.0\n",
      "10.0 15.0\n",
      "11.0 0.0\n",
      "11.0 1.0\n",
      "11.0 2.0\n",
      "11.0 3.0\n",
      "11.0 4.0\n",
      "11.0 5.0\n",
      "11.0 6.0\n",
      "11.0 7.0\n",
      "11.0 8.0\n",
      "11.0 9.0\n",
      "11.0 10.0\n",
      "11.0 11.0\n",
      "11.0 12.0\n",
      "11.0 13.0\n",
      "11.0 14.0\n",
      "11.0 15.0\n",
      "12.0 0.0\n",
      "12.0 1.0\n",
      "12.0 2.0\n",
      "12.0 3.0\n",
      "12.0 4.0\n",
      "12.0 5.0\n",
      "12.0 6.0\n",
      "12.0 7.0\n",
      "12.0 9.0\n",
      "12.0 11.0\n",
      "12.0 12.0\n",
      "12.0 13.0\n",
      "12.0 14.0\n",
      "12.0 15.0\n",
      "13.0 0.0\n",
      "13.0 1.0\n",
      "13.0 2.0\n",
      "13.0 3.0\n",
      "13.0 4.0\n",
      "13.0 6.0\n",
      "13.0 7.0\n",
      "13.0 8.0\n",
      "13.0 9.0\n",
      "13.0 11.0\n",
      "13.0 12.0\n",
      "13.0 13.0\n",
      "13.0 14.0\n",
      "14.0 0.0\n",
      "14.0 1.0\n",
      "14.0 2.0\n",
      "14.0 3.0\n",
      "14.0 4.0\n",
      "14.0 5.0\n",
      "14.0 6.0\n",
      "14.0 7.0\n",
      "14.0 8.0\n",
      "14.0 10.0\n",
      "14.0 11.0\n",
      "14.0 12.0\n",
      "14.0 13.0\n",
      "14.0 14.0\n",
      "14.0 15.0\n",
      "15.0 0.0\n",
      "15.0 1.0\n",
      "15.0 2.0\n",
      "15.0 3.0\n",
      "15.0 4.0\n",
      "15.0 5.0\n",
      "15.0 6.0\n",
      "15.0 7.0\n",
      "15.0 9.0\n",
      "15.0 10.0\n",
      "15.0 11.0\n",
      "15.0 12.0\n",
      "15.0 14.0\n",
      "15.0 15.0\n"
     ]
    },
    {
     "data": {
      "text/plain": [
       "0      None\n",
       "1      None\n",
       "2      None\n",
       "3      None\n",
       "4      None\n",
       "       ... \n",
       "221    None\n",
       "222    None\n",
       "223    None\n",
       "224    None\n",
       "225    None\n",
       "Length: 226, dtype: object"
      ]
     },
     "execution_count": 18,
     "metadata": {},
     "output_type": "execute_result"
    }
   ],
   "source": [
    "edge_table.apply(lambda e: net.add_edge(int(e.source), int(e.target)), axis=1)"
   ]
  },
  {
   "cell_type": "code",
   "execution_count": null,
   "metadata": {},
   "outputs": [],
   "source": []
  }
 ],
 "metadata": {
  "kernelspec": {
   "display_name": "Python 3 (ipykernel)",
   "language": "python",
   "name": "python3"
  },
  "language_info": {
   "codemirror_mode": {
    "name": "ipython",
    "version": 3
   },
   "file_extension": ".py",
   "mimetype": "text/x-python",
   "name": "python",
   "nbconvert_exporter": "python",
   "pygments_lexer": "ipython3",
   "version": "3.7.15"
  }
 },
 "nbformat": 4,
 "nbformat_minor": 1
}
